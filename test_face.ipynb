{
 "cells": [
  {
   "cell_type": "code",
   "execution_count": 3,
   "metadata": {},
   "outputs": [
    {
     "ename": "KeyboardInterrupt",
     "evalue": "",
     "output_type": "error",
     "traceback": [
      "\u001b[1;31m---------------------------------------------------------------------------\u001b[0m",
      "\u001b[1;31mKeyboardInterrupt\u001b[0m                         Traceback (most recent call last)",
      "\u001b[1;32m<ipython-input-3-50b5870edae9>\u001b[0m in \u001b[0;36m<module>\u001b[1;34m\u001b[0m\n\u001b[0;32m     62\u001b[0m \u001b[0mimage\u001b[0m \u001b[1;33m=\u001b[0m \u001b[0mimutils\u001b[0m\u001b[1;33m.\u001b[0m\u001b[0mresize\u001b[0m\u001b[1;33m(\u001b[0m\u001b[0mimage\u001b[0m\u001b[1;33m,\u001b[0m \u001b[0mwidth\u001b[0m\u001b[1;33m=\u001b[0m\u001b[1;36m500\u001b[0m\u001b[1;33m)\u001b[0m\u001b[1;33m\u001b[0m\u001b[1;33m\u001b[0m\u001b[0m\n\u001b[0;32m     63\u001b[0m \u001b[1;31m# show_raw_detection(image, detector, predictor)\u001b[0m\u001b[1;33m\u001b[0m\u001b[1;33m\u001b[0m\u001b[1;33m\u001b[0m\u001b[0m\n\u001b[1;32m---> 64\u001b[1;33m \u001b[0mdraw_individual_detections\u001b[0m\u001b[1;33m(\u001b[0m\u001b[0mimage\u001b[0m\u001b[1;33m,\u001b[0m \u001b[0mdetector\u001b[0m\u001b[1;33m,\u001b[0m \u001b[0mpredictor\u001b[0m\u001b[1;33m)\u001b[0m\u001b[1;33m\u001b[0m\u001b[1;33m\u001b[0m\u001b[0m\n\u001b[0m",
      "\u001b[1;32m<ipython-input-3-50b5870edae9>\u001b[0m in \u001b[0;36mdraw_individual_detections\u001b[1;34m(image, detector, predictor)\u001b[0m\n\u001b[0;32m     54\u001b[0m                 \u001b[0moutput\u001b[0m \u001b[1;33m=\u001b[0m \u001b[0mface_utils\u001b[0m\u001b[1;33m.\u001b[0m\u001b[0mvisualize_facial_landmarks\u001b[0m\u001b[1;33m(\u001b[0m\u001b[0mimage\u001b[0m\u001b[1;33m,\u001b[0m \u001b[0mshape\u001b[0m\u001b[1;33m)\u001b[0m\u001b[1;33m\u001b[0m\u001b[1;33m\u001b[0m\u001b[0m\n\u001b[0;32m     55\u001b[0m                 \u001b[0mcv2\u001b[0m\u001b[1;33m.\u001b[0m\u001b[0mimshow\u001b[0m\u001b[1;33m(\u001b[0m\u001b[1;34m\"Image\"\u001b[0m\u001b[1;33m,\u001b[0m \u001b[0moutput\u001b[0m\u001b[1;33m)\u001b[0m\u001b[1;33m\u001b[0m\u001b[1;33m\u001b[0m\u001b[0m\n\u001b[1;32m---> 56\u001b[1;33m                 \u001b[0mcv2\u001b[0m\u001b[1;33m.\u001b[0m\u001b[0mwaitKey\u001b[0m\u001b[1;33m(\u001b[0m\u001b[1;36m0\u001b[0m\u001b[1;33m)\u001b[0m\u001b[1;33m\u001b[0m\u001b[1;33m\u001b[0m\u001b[0m\n\u001b[0m\u001b[0;32m     57\u001b[0m \u001b[1;33m\u001b[0m\u001b[0m\n\u001b[0;32m     58\u001b[0m \u001b[0mdetector\u001b[0m \u001b[1;33m=\u001b[0m \u001b[0mdlib\u001b[0m\u001b[1;33m.\u001b[0m\u001b[0mget_frontal_face_detector\u001b[0m\u001b[1;33m(\u001b[0m\u001b[1;33m)\u001b[0m\u001b[1;33m\u001b[0m\u001b[1;33m\u001b[0m\u001b[0m\n",
      "\u001b[1;31mKeyboardInterrupt\u001b[0m: "
     ]
    }
   ],
   "source": [
    "# import the necessary packages\n",
    "from imutils import face_utils\n",
    "import numpy as np\n",
    "import imutils\n",
    "import dlib\n",
    "import cv2\n",
    "\n",
    "def show_raw_detection(image, detector, predictor):\n",
    "    gray = cv2.cvtColor(image, cv2.COLOR_BGR2GRAY)\n",
    "    # 그레이스케일 영상에서 면 검출\n",
    "    rects = detector(gray, 1)\n",
    "    # 얼굴 탐지를 반복\n",
    "    for (i, rect) in enumerate(rects):\n",
    "        # 얼굴 부위의 얼굴 랜드마크 결정, 얼굴 랜드마크(x, y) 좌표를 NumPy 배열로 변환\n",
    "        shape = predictor(gray, rect)\n",
    "        shape = face_utils.shape_to_np(shape)\n",
    "        # dlib의 사각형을 OpenCV 스타일 경계 상자로 변환한 다음(x, y, w, h) 면 경계 상자를 그림\n",
    "        (x, y, w, h) = face_utils.rect_to_bb(rect)\n",
    "        cv2.rectangle(image, (x, y), (x + w, y + h), (0, 255, 0), 2)\n",
    "        # 얼굴 번호를 보여줌\n",
    "        cv2.putText(image, \"Face #{}\".format(i + 1), (x - 10, y - 10), cv2.FONT_HERSHEY_SIMPLEX, 0.5, (0, 255, 0), 2)\n",
    "        # (x, y)-좌표를 통해 얼굴 랜드마크에 루프 적용 후 이미지 위에 그림\n",
    "        for (x, y) in shape:\n",
    "            cv2.circle(image, (x, y), 1, (0, 0, 255), -1)\n",
    "    # 얼굴 감지 + 얼굴 랜드마크로 출력 이미지를 보여줌\n",
    "    cv2.imshow(\"Output\", image)\n",
    "    cv2.waitKey(0)\n",
    "def draw_individual_detections(image, detector, predictor):\n",
    "    gray = cv2.cvtColor(image, cv2.COLOR_BGR2GRAY)\n",
    "    # 그레이스케일 영상에서 면 검출\n",
    "    rects = detector(gray, 1)\n",
    "    # 얼굴 탐지를 반복\n",
    "    for (i, rect) in enumerate(rects):\n",
    "        # 얼굴 부위의 얼굴 랜드마크 결정, 얼굴 랜드마크(x, y) 좌표를 NumPy 배열로 변환\n",
    "        shape = predictor(gray, rect)\n",
    "        shape = face_utils.shape_to_np(shape)\n",
    "        # 얼굴 부분을 개별적으로 루프\n",
    "        for (name, (i, j)) in face_utils.FACIAL_LANDMARKS_IDXS.items():\n",
    "            # 원본 이미지를 복제해서 그 위에 그린 다음 얼굴 부분의 이름을 이미지에 표시\n",
    "            clone = image.copy()\n",
    "            cv2.putText(clone, name, (10, 30), cv2.FONT_HERSHEY_SIMPLEX, 0.7, (0, 0, 255), 2)\n",
    "            # 얼굴 랜드마크의 서브셋 위로 루프하여 특정 얼굴 부분을 그림\n",
    "            for (x, y) in shape[i:j]:\n",
    "                cv2.circle(clone, (x, y), 1, (0, 0, 255), -1)\n",
    "                # 얼굴 부위의 ROI를 별도의 영상으로 추출\n",
    "                (x, y, w, h) = cv2.boundingRect(np.array([shape[i:j]]))\n",
    "                roi = image[y:y + h, x:x + w]\n",
    "                roi = imutils.resize(roi, width=250, inter=cv2.INTER_CUBIC)\n",
    "                # 특정 얼굴 부분을 보여줌\n",
    "                cv2.imshow(\"ROI\", roi)\n",
    "                cv2.imshow(\"Image\", clone)\n",
    "                cv2.waitKey(0)\n",
    "                # 투명한 오버레이로 모든 얼굴 표지를 시각화\n",
    "                output = face_utils.visualize_facial_landmarks(image, shape)\n",
    "                cv2.imshow(\"Image\", output)\n",
    "                cv2.waitKey(0)\n",
    "                \n",
    "detector = dlib.get_frontal_face_detector()\n",
    "predictor = dlib.shape_predictor('shape_predictor_68_face_landmarks.dat')\n",
    "# 입력 이미지를 로드하고 크기를 조정한 후 그레이 스케일로 변환\n",
    "image = cv2.imread('image/chuu.jpg') \n",
    "image = imutils.resize(image, width=500)\n",
    "# show_raw_detection(image, detector, predictor)\n",
    "draw_individual_detections(image, detector, predictor)"
   ]
  },
  {
   "cell_type": "code",
   "execution_count": null,
   "metadata": {},
   "outputs": [],
   "source": []
  },
  {
   "cell_type": "code",
   "execution_count": null,
   "metadata": {},
   "outputs": [],
   "source": []
  },
  {
   "cell_type": "code",
   "execution_count": null,
   "metadata": {},
   "outputs": [],
   "source": []
  }
 ],
 "metadata": {
  "kernelspec": {
   "display_name": "Python 3",
   "language": "python",
   "name": "python3"
  },
  "language_info": {
   "codemirror_mode": {
    "name": "ipython",
    "version": 3
   },
   "file_extension": ".py",
   "mimetype": "text/x-python",
   "name": "python",
   "nbconvert_exporter": "python",
   "pygments_lexer": "ipython3",
   "version": "3.8.5"
  }
 },
 "nbformat": 4,
 "nbformat_minor": 4
}
